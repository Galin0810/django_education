{
 "cells": [
  {
   "cell_type": "code",
   "execution_count": null,
   "metadata": {},
   "outputs": [],
   "source": [
    "import socket"
   ]
  },
  {
   "cell_type": "code",
   "execution_count": null,
   "metadata": {},
   "outputs": [],
   "source": [
    "server_socket = socket.socket(socket.AF_INET, socket.SOCK_STREAM)\n",
    "server_socket.setsockopt(socket.SOL_SOCKET, socket.SO_REUSEADDR, 1)\n",
    "server_socket.bind((\"localhost\", 5050))\n",
    "server_socket.listen()\n",
    "\n",
    "while True:\n",
    "        print(\"Before accept()\")\n",
    "        client_socket, addr = server_socket.accept()\n",
    "        print(\"Connection from \", addr)\n",
    "        \n",
    "        \n",
    "        while True:\n",
    "            print(\"Before recv\")\n",
    "            request = client_socket.recv(4096)\n",
    "            if not request:\n",
    "                break\n",
    "            else:\n",
    "               response =  \"Hello client\\n\".encode()\n",
    "               client_socket.send(response)\n",
    "        \n",
    "        print(\"Outside inner loop\")\n",
    "        client_socket.close()\n",
    "            "
   ]
  },
  {
   "cell_type": "code",
   "execution_count": null,
   "metadata": {},
   "outputs": [],
   "source": []
  }
 ],
 "metadata": {
  "kernelspec": {
   "display_name": "Python 3",
   "language": "python",
   "name": "python3"
  },
  "language_info": {
   "codemirror_mode": {
    "name": "ipython",
    "version": 3
   },
   "file_extension": ".py",
   "mimetype": "text/x-python",
   "name": "python",
   "nbconvert_exporter": "python",
   "pygments_lexer": "ipython3",
   "version": "3.5.2"
  }
 },
 "nbformat": 4,
 "nbformat_minor": 2
}
