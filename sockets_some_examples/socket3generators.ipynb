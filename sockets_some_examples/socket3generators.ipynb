{
 "cells": [
  {
   "cell_type": "code",
   "execution_count": 1,
   "metadata": {},
   "outputs": [],
   "source": [
    "import socket\n",
    "from select import select"
   ]
  },
  {
   "cell_type": "code",
   "execution_count": 2,
   "metadata": {},
   "outputs": [
    {
     "name": "stdout",
     "output_type": "stream",
     "text": [
      "Connection from  ('127.0.0.1', 33276)\n",
      "Connection from  ('127.0.0.1', 33278)\n",
      "Done!\n",
      "Done!\n"
     ]
    },
    {
     "ename": "KeyboardInterrupt",
     "evalue": "",
     "output_type": "error",
     "traceback": [
      "\u001b[0;31m---------------------------------------------------------------------------\u001b[0m",
      "\u001b[0;31mKeyboardInterrupt\u001b[0m                         Traceback (most recent call last)",
      "\u001b[0;32m<ipython-input-2-02868af04b7c>\u001b[0m in \u001b[0;36m<module>\u001b[0;34m\u001b[0m\n\u001b[1;32m     54\u001b[0m \u001b[0;34m\u001b[0m\u001b[0m\n\u001b[1;32m     55\u001b[0m \u001b[0mtasks\u001b[0m\u001b[0;34m.\u001b[0m\u001b[0mappend\u001b[0m\u001b[0;34m(\u001b[0m\u001b[0mserver\u001b[0m\u001b[0;34m(\u001b[0m\u001b[0;34m)\u001b[0m\u001b[0;34m)\u001b[0m\u001b[0;34m\u001b[0m\u001b[0m\n\u001b[0;32m---> 56\u001b[0;31m \u001b[0mevent_loop\u001b[0m\u001b[0;34m(\u001b[0m\u001b[0;34m)\u001b[0m\u001b[0;34m\u001b[0m\u001b[0m\n\u001b[0m\u001b[1;32m     57\u001b[0m \u001b[0;34m\u001b[0m\u001b[0m\n",
      "\u001b[0;32m<ipython-input-2-02868af04b7c>\u001b[0m in \u001b[0;36mevent_loop\u001b[0;34m()\u001b[0m\n\u001b[1;32m     35\u001b[0m \u001b[0;34m\u001b[0m\u001b[0m\n\u001b[1;32m     36\u001b[0m         \u001b[0;32mwhile\u001b[0m \u001b[0;32mnot\u001b[0m \u001b[0mtasks\u001b[0m\u001b[0;34m:\u001b[0m\u001b[0;34m\u001b[0m\u001b[0m\n\u001b[0;32m---> 37\u001b[0;31m             \u001b[0mready_to_read\u001b[0m\u001b[0;34m,\u001b[0m \u001b[0mready_to_write\u001b[0m\u001b[0;34m,\u001b[0m \u001b[0m_\u001b[0m \u001b[0;34m=\u001b[0m \u001b[0mselect\u001b[0m\u001b[0;34m(\u001b[0m\u001b[0mto_read\u001b[0m\u001b[0;34m,\u001b[0m \u001b[0mto_write\u001b[0m\u001b[0;34m,\u001b[0m \u001b[0;34m[\u001b[0m\u001b[0;34m]\u001b[0m\u001b[0;34m)\u001b[0m\u001b[0;34m\u001b[0m\u001b[0m\n\u001b[0m\u001b[1;32m     38\u001b[0m             \u001b[0;32mfor\u001b[0m \u001b[0msock\u001b[0m \u001b[0;32min\u001b[0m \u001b[0mready_to_read\u001b[0m\u001b[0;34m:\u001b[0m\u001b[0;34m\u001b[0m\u001b[0m\n\u001b[1;32m     39\u001b[0m                 \u001b[0mtasks\u001b[0m\u001b[0;34m.\u001b[0m\u001b[0mappend\u001b[0m\u001b[0;34m(\u001b[0m\u001b[0mto_read\u001b[0m\u001b[0;34m.\u001b[0m\u001b[0mpop\u001b[0m\u001b[0;34m(\u001b[0m\u001b[0msock\u001b[0m\u001b[0;34m)\u001b[0m\u001b[0;34m)\u001b[0m\u001b[0;34m\u001b[0m\u001b[0m\n",
      "\u001b[0;31mKeyboardInterrupt\u001b[0m: "
     ]
    }
   ],
   "source": [
    "tasks = []\n",
    "\n",
    "to_read = {}\n",
    "to_write = {}\n",
    "\n",
    "def server():\n",
    "    server_socket = socket.socket(socket.AF_INET, socket.SOCK_STREAM)\n",
    "    server_socket.setsockopt(socket.SOL_SOCKET, socket.SO_REUSEADDR, 1)\n",
    "    server_socket.bind((\"localhost\", 5011))\n",
    "    server_socket.listen()\n",
    "    \n",
    "    while True:\n",
    "        \n",
    "        yield ('read', server_socket)\n",
    "        client_socket, addr = server_socket.accept()\n",
    "        print(\"Connection from \", addr)\n",
    "    \n",
    "        tasks.append(client(client_socket))\n",
    " \n",
    "    \n",
    "def client(client_socket): \n",
    "    while True:\n",
    "        yield ('read', client_socket)\n",
    "        request = client_socket.recv(4096)\n",
    "        if not request:\n",
    "            break\n",
    "        else:\n",
    "            response =  \"Hello client\\n\".encode()\n",
    "            yield ('write', client_socket)\n",
    "            client_socket.send(response)\n",
    "    client_socket.close()\n",
    "\n",
    "def event_loop():\n",
    "    while any([tasks, to_read, to_write]):\n",
    "        \n",
    "        while not tasks:\n",
    "            ready_to_read, ready_to_write, _ = select(to_read, to_write, [])\n",
    "            for sock in ready_to_read:\n",
    "                tasks.append(to_read.pop(sock))\n",
    "            for sock in ready_to_write:\n",
    "                tasks.append(to_write.pop(sock))\n",
    "        try:\n",
    "            task = tasks.pop(0)\n",
    "            \n",
    "            reason, sock = next(task)\n",
    "            \n",
    "            if reason == 'read':\n",
    "                to_read[sock] = task\n",
    "            if reason == 'write':\n",
    "                to_write[sock] = task\n",
    "        except StopIteration:\n",
    "            print(\"Done!\")\n",
    "                \n",
    "            \n",
    "tasks.append(server())\n",
    "event_loop()\n",
    "        "
   ]
  },
  {
   "cell_type": "code",
   "execution_count": null,
   "metadata": {},
   "outputs": [],
   "source": []
  }
 ],
 "metadata": {
  "kernelspec": {
   "display_name": "Python 3",
   "language": "python",
   "name": "python3"
  },
  "language_info": {
   "codemirror_mode": {
    "name": "ipython",
    "version": 3
   },
   "file_extension": ".py",
   "mimetype": "text/x-python",
   "name": "python",
   "nbconvert_exporter": "python",
   "pygments_lexer": "ipython3",
   "version": "3.5.2"
  }
 },
 "nbformat": 4,
 "nbformat_minor": 2
}
